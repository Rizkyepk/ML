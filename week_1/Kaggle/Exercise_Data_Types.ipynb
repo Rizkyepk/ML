{
  "metadata": {
    "kernelspec": {
      "display_name": "Python 3",
      "language": "python",
      "name": "python3"
    },
    "language_info": {
      "name": "python",
      "version": "3.10.13",
      "mimetype": "text/x-python",
      "codemirror_mode": {
        "name": "ipython",
        "version": 3
      },
      "pygments_lexer": "ipython3",
      "nbconvert_exporter": "python",
      "file_extension": ".py"
    },
    "papermill": {
      "default_parameters": {},
      "duration": 15.996115,
      "end_time": "2022-02-15T23:56:55.998786",
      "environment_variables": {},
      "exception": null,
      "input_path": "__notebook__.ipynb",
      "output_path": "__notebook__.ipynb",
      "parameters": {},
      "start_time": "2022-02-15T23:56:40.002671",
      "version": "2.3.3"
    },
    "kaggle": {
      "accelerator": "none",
      "dataSources": [],
      "isInternetEnabled": false,
      "language": "python",
      "sourceType": "notebook",
      "isGpuEnabled": false
    },
    "colab": {
      "name": "Exercise: Data Types",
      "provenance": [],
      "include_colab_link": true
    }
  },
  "nbformat_minor": 5,
  "nbformat": 4,
  "cells": [
    {
      "cell_type": "markdown",
      "metadata": {
        "id": "view-in-github",
        "colab_type": "text"
      },
      "source": [
        "<a href=\"https://colab.research.google.com/github/Rizkyepk/Machine_Learning/blob/main/week_1/Kaggle/Exercise_Data_Types.ipynb\" target=\"_parent\"><img src=\"https://colab.research.google.com/assets/colab-badge.svg\" alt=\"Open In Colab\"/></a>"
      ]
    },
    {
      "cell_type": "markdown",
      "source": [
        "**This notebook is an exercise in the [Intro to Programming](https://www.kaggle.com/learn/intro-to-programming) course.  You can reference the tutorial at [this link](https://www.kaggle.com/alexisbcook/data-types).**\n",
        "\n",
        "---\n"
      ],
      "metadata": {
        "id": "qLMIVmg6dhkH"
      },
      "id": "qLMIVmg6dhkH"
    },
    {
      "cell_type": "markdown",
      "source": [
        "In the tutorial, you learned about four different data types: floats, integers, strings, and booleans.  In this exercise, you'll experiment with them.\n",
        "\n",
        "# Set up the notebook\n",
        "\n",
        "Run the next code cell without changes to set up the notebook."
      ],
      "metadata": {
        "papermill": {
          "duration": 0.024307,
          "end_time": "2022-02-15T23:56:51.875254",
          "exception": false,
          "start_time": "2022-02-15T23:56:51.850947",
          "status": "completed"
        },
        "tags": [],
        "id": "VgVSV__SdhkI"
      },
      "id": "VgVSV__SdhkI"
    },
    {
      "cell_type": "code",
      "source": [
        "# Set up the exercise\n",
        "from learntools.core import binder\n",
        "binder.bind(globals())\n",
        "from learntools.intro_to_programming.ex3 import *\n",
        "print('Setup complete.')"
      ],
      "metadata": {
        "papermill": {
          "duration": 0.041266,
          "end_time": "2022-02-15T23:56:51.940173",
          "exception": false,
          "start_time": "2022-02-15T23:56:51.898907",
          "status": "completed"
        },
        "tags": [],
        "execution": {
          "iopub.status.busy": "2024-03-02T18:13:56.868992Z",
          "iopub.execute_input": "2024-03-02T18:13:56.869423Z",
          "iopub.status.idle": "2024-03-02T18:13:56.878165Z",
          "shell.execute_reply.started": "2024-03-02T18:13:56.869394Z",
          "shell.execute_reply": "2024-03-02T18:13:56.876432Z"
        },
        "trusted": true,
        "id": "JESf9A3adhkJ",
        "outputId": "3dc69bad-225e-4d76-9f09-12b27e243614"
      },
      "execution_count": null,
      "outputs": [
        {
          "name": "stdout",
          "text": "Setup complete.\n",
          "output_type": "stream"
        }
      ],
      "id": "JESf9A3adhkJ"
    },
    {
      "cell_type": "markdown",
      "source": [
        "# Question 1\n",
        "\n",
        "You have seen how to convert a float to an integer with the `int` function.  Try this out yourself by running the code cell below."
      ],
      "metadata": {
        "papermill": {
          "duration": 0.024941,
          "end_time": "2022-02-15T23:56:51.990804",
          "exception": false,
          "start_time": "2022-02-15T23:56:51.965863",
          "status": "completed"
        },
        "tags": [],
        "id": "hRFFrMlJdhkK"
      },
      "id": "hRFFrMlJdhkK"
    },
    {
      "cell_type": "code",
      "source": [
        "# Define a float\n",
        "y = 1.\n",
        "print(y)\n",
        "print(type(y))\n",
        "\n",
        "# Convert float to integer with the int function\n",
        "z = int(y)\n",
        "print(z)\n",
        "print(type(z))"
      ],
      "metadata": {
        "papermill": {
          "duration": 0.036351,
          "end_time": "2022-02-15T23:56:52.050571",
          "exception": false,
          "start_time": "2022-02-15T23:56:52.01422",
          "status": "completed"
        },
        "tags": [],
        "execution": {
          "iopub.status.busy": "2024-03-02T18:14:06.942693Z",
          "iopub.execute_input": "2024-03-02T18:14:06.94315Z",
          "iopub.status.idle": "2024-03-02T18:14:06.950894Z",
          "shell.execute_reply.started": "2024-03-02T18:14:06.943116Z",
          "shell.execute_reply": "2024-03-02T18:14:06.949432Z"
        },
        "trusted": true,
        "id": "tiQKm6kEdhkK",
        "outputId": "2b1dc30d-5a50-45a7-959f-0d67b59aa5d3"
      },
      "execution_count": null,
      "outputs": [
        {
          "name": "stdout",
          "text": "1.0\n<class 'float'>\n1\n<class 'int'>\n",
          "output_type": "stream"
        }
      ],
      "id": "tiQKm6kEdhkK"
    },
    {
      "cell_type": "markdown",
      "source": [
        "In this case, the float you are using has no numbers after the decimal.  \n",
        "- But what happens when you try to convert a float with a fractional part to an integer?  \n",
        "- How does the outcome of the `int` function change for positive and negative numbers?\n",
        "\n",
        "Use the next code cell to investigate and answer these questions.  Feel free to add or remove any lines of code -- it is your workspace!"
      ],
      "metadata": {
        "papermill": {
          "duration": 0.015746,
          "end_time": "2022-02-15T23:56:52.082635",
          "exception": false,
          "start_time": "2022-02-15T23:56:52.066889",
          "status": "completed"
        },
        "tags": [],
        "id": "a-pZPoRHdhkK"
      },
      "id": "a-pZPoRHdhkK"
    },
    {
      "cell_type": "code",
      "source": [
        "# Uncomment and run this code to get started!\n",
        "print(int(1.2321))\n",
        "print(int(1.747))\n",
        "print(int(-3.94535))\n",
        "print(int(-2.19774))"
      ],
      "metadata": {
        "papermill": {
          "duration": 0.023189,
          "end_time": "2022-02-15T23:56:52.121169",
          "exception": false,
          "start_time": "2022-02-15T23:56:52.09798",
          "status": "completed"
        },
        "tags": [],
        "trusted": true,
        "id": "mkrDfqu9dhkK",
        "outputId": "1f1ae8f0-795c-4dc2-cfa5-e3ced8dd440a"
      },
      "execution_count": null,
      "outputs": [
        {
          "name": "stdout",
          "text": "1\n1\n-3\n-2\n",
          "output_type": "stream"
        }
      ],
      "id": "mkrDfqu9dhkK"
    },
    {
      "cell_type": "markdown",
      "source": [
        "Once you have an answer, run the code cell below to see the solution.  Viewing the solution will give you credit for answering the problem."
      ],
      "metadata": {
        "papermill": {
          "duration": 0.015044,
          "end_time": "2022-02-15T23:56:52.153268",
          "exception": false,
          "start_time": "2022-02-15T23:56:52.138224",
          "status": "completed"
        },
        "tags": [],
        "id": "8q1Hm4OIdhkL"
      },
      "id": "8q1Hm4OIdhkL"
    },
    {
      "cell_type": "code",
      "source": [
        "# Check your answer (Run this code cell to receive credit!)\n",
        "q1.check()"
      ],
      "metadata": {
        "papermill": {
          "duration": 0.022309,
          "end_time": "2022-02-15T23:56:52.19068",
          "exception": false,
          "start_time": "2022-02-15T23:56:52.168371",
          "status": "completed"
        },
        "tags": [],
        "execution": {
          "iopub.status.busy": "2024-03-02T18:15:20.933183Z",
          "iopub.execute_input": "2024-03-02T18:15:20.933621Z",
          "iopub.status.idle": "2024-03-02T18:15:20.946882Z",
          "shell.execute_reply.started": "2024-03-02T18:15:20.933588Z",
          "shell.execute_reply": "2024-03-02T18:15:20.94534Z"
        },
        "trusted": true,
        "id": "a6xKXFvkdhkL",
        "outputId": "e76551f7-d1be-4645-f624-68df4e033178"
      },
      "execution_count": null,
      "outputs": [
        {
          "output_type": "display_data",
          "data": {
            "text/plain": "<IPython.core.display.Javascript object>",
            "application/javascript": "parent.postMessage({\"jupyterEvent\": \"custom.exercise_interaction\", \"data\": {\"outcomeType\": 1, \"valueTowardsCompletion\": 0.2, \"interactionType\": 1, \"questionType\": 4, \"questionId\": \"1_FloatToInt\", \"learnToolsVersion\": \"0.3.4\", \"failureMessage\": \"\", \"exceptionClass\": \"\", \"trace\": \"\"}}, \"*\")"
          },
          "metadata": {}
        },
        {
          "output_type": "display_data",
          "data": {
            "text/plain": "Correct: \n\nNegative floats are always rounded UP to the closest integer (for instance, both -1.1 and -1.9 are rounded up to -1). Positive floats are always rounded DOWN to the closest integer (for instance, 2.1 and 2.9 are rounded down to 2).",
            "text/markdown": "<span style=\"color:#33cc33\">Correct:</span> \n\nNegative floats are always rounded UP to the closest integer (for instance, both -1.1 and -1.9 are rounded up to -1). Positive floats are always rounded DOWN to the closest integer (for instance, 2.1 and 2.9 are rounded down to 2)."
          },
          "metadata": {}
        }
      ],
      "id": "a6xKXFvkdhkL"
    },
    {
      "cell_type": "markdown",
      "source": [
        "# Question 2\n",
        "\n",
        "In the tutorial, you learned about booleans (which can take a value of `True` or `False`), in addition to integers, floats, and strings.  For this question, your goal is to determine what happens when you multiply a boolean by any of these data types.  Specifically,\n",
        "- What happens when you multiply an integer or float by `True`?  What happens when you multiply them by `False`?  How does the answer change if the numbers are positive or negative?\n",
        "- What happens when you multiply a string by `True`?  By `False`?\n",
        "\n",
        "Use the next code cell for your investigation."
      ],
      "metadata": {
        "papermill": {
          "duration": 0.015624,
          "end_time": "2022-02-15T23:56:52.222102",
          "exception": false,
          "start_time": "2022-02-15T23:56:52.206478",
          "status": "completed"
        },
        "tags": [],
        "id": "FET9kQ80dhkL"
      },
      "id": "FET9kQ80dhkL"
    },
    {
      "cell_type": "code",
      "source": [
        "# Uncomment and run this code to get started!\n",
        "print(3 * True)\n",
        "print(-3.1 * True)\n",
        "print(type(\"abc\" * False))\n",
        "print(len(\"abc\" * False))"
      ],
      "metadata": {
        "papermill": {
          "duration": 0.026529,
          "end_time": "2022-02-15T23:56:52.26436",
          "exception": false,
          "start_time": "2022-02-15T23:56:52.237831",
          "status": "completed"
        },
        "tags": [],
        "execution": {
          "iopub.status.busy": "2024-03-02T18:18:28.478334Z",
          "iopub.execute_input": "2024-03-02T18:18:28.478798Z",
          "iopub.status.idle": "2024-03-02T18:18:28.486096Z",
          "shell.execute_reply.started": "2024-03-02T18:18:28.478767Z",
          "shell.execute_reply": "2024-03-02T18:18:28.484745Z"
        },
        "trusted": true,
        "id": "c6LZO0g_dhkL",
        "outputId": "bd4a1333-63ca-451a-ce46-695ecc4f3078"
      },
      "execution_count": null,
      "outputs": [
        {
          "name": "stdout",
          "text": "0\n-3.1\n<class 'str'>\n0\n",
          "output_type": "stream"
        }
      ],
      "id": "c6LZO0g_dhkL"
    },
    {
      "cell_type": "markdown",
      "source": [
        "Once you have an answer, run the code cell below to see the solution.  Viewing the solution will give you credit for answering the problem."
      ],
      "metadata": {
        "papermill": {
          "duration": 0.024547,
          "end_time": "2022-02-15T23:56:52.314813",
          "exception": false,
          "start_time": "2022-02-15T23:56:52.290266",
          "status": "completed"
        },
        "tags": [],
        "id": "ahsLPD9-dhkL"
      },
      "id": "ahsLPD9-dhkL"
    },
    {
      "cell_type": "code",
      "source": [
        "# Check your answer (Run this code cell to receive credit!)\n",
        "q2.check()"
      ],
      "metadata": {
        "papermill": {
          "duration": 0.033338,
          "end_time": "2022-02-15T23:56:52.372842",
          "exception": false,
          "start_time": "2022-02-15T23:56:52.339504",
          "status": "completed"
        },
        "tags": [],
        "execution": {
          "iopub.status.busy": "2024-03-02T18:16:52.416375Z",
          "iopub.execute_input": "2024-03-02T18:16:52.416849Z",
          "iopub.status.idle": "2024-03-02T18:16:52.425903Z",
          "shell.execute_reply.started": "2024-03-02T18:16:52.416812Z",
          "shell.execute_reply": "2024-03-02T18:16:52.424651Z"
        },
        "trusted": true,
        "id": "bLTJs5rYdhkM",
        "outputId": "d8c9d293-0d87-4309-ff1c-86e93e50ec24"
      },
      "execution_count": null,
      "outputs": [
        {
          "output_type": "display_data",
          "data": {
            "text/plain": "<IPython.core.display.Javascript object>",
            "application/javascript": "parent.postMessage({\"jupyterEvent\": \"custom.exercise_interaction\", \"data\": {\"outcomeType\": 1, \"valueTowardsCompletion\": 0.2, \"interactionType\": 1, \"questionType\": 4, \"questionId\": \"2_MultiplyBooleans\", \"learnToolsVersion\": \"0.3.4\", \"failureMessage\": \"\", \"exceptionClass\": \"\", \"trace\": \"\"}}, \"*\")"
          },
          "metadata": {}
        },
        {
          "output_type": "display_data",
          "data": {
            "text/plain": "Correct: \n\nWhen you multiple an integer or float by a boolean with value `True`, it just returns that same integer or float (and is equivalent to multiplying by 1).  If you multiply an integer or float by a boolean with value `False`, it always returns 0.  This is true for both positive and negative numbers.  If you multiply a string by a boolean with value `True`, it just returns that same string.  And if you multiply a string by a boolean with value `False`, it returns an empty string (or a string with length zero).",
            "text/markdown": "<span style=\"color:#33cc33\">Correct:</span> \n\nWhen you multiple an integer or float by a boolean with value `True`, it just returns that same integer or float (and is equivalent to multiplying by 1).  If you multiply an integer or float by a boolean with value `False`, it always returns 0.  This is true for both positive and negative numbers.  If you multiply a string by a boolean with value `True`, it just returns that same string.  And if you multiply a string by a boolean with value `False`, it returns an empty string (or a string with length zero)."
          },
          "metadata": {}
        }
      ],
      "id": "bLTJs5rYdhkM"
    },
    {
      "cell_type": "markdown",
      "source": [
        "# Question 3\n",
        "\n",
        "In this question, you will build off your work from the previous exercise to write a function that estimates the value of a house.\n",
        "\n",
        "Use the next code cell to create a function `get_expected_cost` that takes as input three variables:\n",
        "- `beds` - number of bedrooms (data type float)\n",
        "- `baths` - number of bathrooms (data type float)\n",
        "- `has_basement` - whether or not the house has a basement (data type boolean)\n",
        "\n",
        "It should return the expected cost of a house with those characteristics. Assume that:\n",
        "- the expected cost for a house with 0 bedrooms and 0 bathrooms, and no basement is 80000,\n",
        "- each bedroom adds 30000 to the expected cost,\n",
        "- each bathroom adds 10000 to the expected cost, and\n",
        "- a basement adds 40000 to the expected cost.\n",
        "\n",
        "For instance,\n",
        "- a house with 1 bedroom, 1 bathroom, and no basement has an expected cost of 80000 + 30000 + 10000 = 120000.  This value will be calculated with `get_expected_cost(1, 1, False)`.\n",
        "- a house with 2 bedrooms, 1 bathroom, and a basement has an expected cost of 80000 + 2*30000 + 10000 + 40000 = 190000.  This value will be calculated with `get_expected_cost(2, 1, True)`.\n",
        "\n",
        "Remember you can always get a hint by uncommenting `q3.hint()` in the code cell following the next!"
      ],
      "metadata": {
        "papermill": {
          "duration": 0.024657,
          "end_time": "2022-02-15T23:56:52.423541",
          "exception": false,
          "start_time": "2022-02-15T23:56:52.398884",
          "status": "completed"
        },
        "tags": [],
        "id": "RPtPESo4dhkM"
      },
      "id": "RPtPESo4dhkM"
    },
    {
      "cell_type": "code",
      "source": [
        "# TODO: Complete the function\n",
        "def get_expected_cost(beds, baths, has_basement):\n",
        "    value = 80000 + 30000 * beds + 10000 * baths + 40000 * has_basement\n",
        "    return value\n",
        "\n",
        "# Check your answer\n",
        "q3.check()"
      ],
      "metadata": {
        "papermill": {
          "duration": 0.033124,
          "end_time": "2022-02-15T23:56:52.48129",
          "exception": false,
          "start_time": "2022-02-15T23:56:52.448166",
          "status": "completed"
        },
        "tags": [],
        "execution": {
          "iopub.status.busy": "2024-03-02T18:28:37.613292Z",
          "iopub.execute_input": "2024-03-02T18:28:37.614406Z",
          "iopub.status.idle": "2024-03-02T18:28:37.625919Z",
          "shell.execute_reply.started": "2024-03-02T18:28:37.614364Z",
          "shell.execute_reply": "2024-03-02T18:28:37.624474Z"
        },
        "trusted": true,
        "id": "JRfP_LpUdhkM",
        "outputId": "f9f58b90-1d0b-4292-92bb-15aa1cacd7b3"
      },
      "execution_count": null,
      "outputs": [
        {
          "output_type": "display_data",
          "data": {
            "text/plain": "<IPython.core.display.Javascript object>",
            "application/javascript": "parent.postMessage({\"jupyterEvent\": \"custom.exercise_interaction\", \"data\": {\"outcomeType\": 1, \"valueTowardsCompletion\": 0.2, \"interactionType\": 1, \"questionType\": 2, \"questionId\": \"3_EstimateHouseValueBool\", \"learnToolsVersion\": \"0.3.4\", \"failureMessage\": \"\", \"exceptionClass\": \"\", \"trace\": \"\"}}, \"*\")"
          },
          "metadata": {}
        },
        {
          "output_type": "display_data",
          "data": {
            "text/plain": "Correct",
            "text/markdown": "<span style=\"color:#33cc33\">Correct</span>"
          },
          "metadata": {}
        }
      ],
      "id": "JRfP_LpUdhkM"
    },
    {
      "cell_type": "code",
      "source": [
        "# Uncomment to see a hint\n",
        "q3.hint()\n",
        "\n",
        "# Uncomment to view the solution\n",
        "# q3.solution()"
      ],
      "metadata": {
        "papermill": {
          "duration": 0.032803,
          "end_time": "2022-02-15T23:56:52.53896",
          "exception": false,
          "start_time": "2022-02-15T23:56:52.506157",
          "status": "completed"
        },
        "tags": [],
        "execution": {
          "iopub.status.busy": "2024-03-02T18:28:36.323759Z",
          "iopub.execute_input": "2024-03-02T18:28:36.325184Z",
          "iopub.status.idle": "2024-03-02T18:28:36.333992Z",
          "shell.execute_reply.started": "2024-03-02T18:28:36.325142Z",
          "shell.execute_reply": "2024-03-02T18:28:36.332417Z"
        },
        "trusted": true,
        "id": "tEPxU1WydhkM",
        "outputId": "408b324b-19c2-4daa-eb7e-4eb2f68c3dcc"
      },
      "execution_count": null,
      "outputs": [
        {
          "output_type": "display_data",
          "data": {
            "text/plain": "<IPython.core.display.Javascript object>",
            "application/javascript": "parent.postMessage({\"jupyterEvent\": \"custom.exercise_interaction\", \"data\": {\"interactionType\": 2, \"questionType\": 2, \"questionId\": \"3_EstimateHouseValueBool\", \"learnToolsVersion\": \"0.3.4\", \"valueTowardsCompletion\": 0.0, \"failureMessage\": \"\", \"exceptionClass\": \"\", \"trace\": \"\", \"outcomeType\": 4}}, \"*\")"
          },
          "metadata": {}
        },
        {
          "output_type": "display_data",
          "data": {
            "text/plain": "Hint: The variable `has_basement` is either `True` or `False`.  What happens when you multiply it by 40000 (the value of a basement)?  Refer to the previous question if you are unsure.",
            "text/markdown": "<span style=\"color:#3366cc\">Hint:</span> The variable `has_basement` is either `True` or `False`.  What happens when you multiply it by 40000 (the value of a basement)?  Refer to the previous question if you are unsure."
          },
          "metadata": {}
        }
      ],
      "id": "tEPxU1WydhkM"
    },
    {
      "cell_type": "markdown",
      "source": [
        "# Question 4\n",
        "\n",
        "We'll continue our study of boolean arithmetic.  For this question, your task is to provide a description of what happpens when you add booleans.\n",
        "\n",
        "Use the next code cell for your investigation.  Feel free to add or remove any lines of code - use it as your workspace!"
      ],
      "metadata": {
        "papermill": {
          "duration": 0.02506,
          "end_time": "2022-02-15T23:56:52.588859",
          "exception": false,
          "start_time": "2022-02-15T23:56:52.563799",
          "status": "completed"
        },
        "tags": [],
        "id": "Pq3AHfEYdhkM"
      },
      "id": "Pq3AHfEYdhkM"
    },
    {
      "cell_type": "code",
      "source": [
        "print(False + False)\n",
        "print(True + False)\n",
        "print(False + True)\n",
        "print(True + True)\n",
        "print(False + True + True + True)"
      ],
      "metadata": {
        "papermill": {
          "duration": 0.034215,
          "end_time": "2022-02-15T23:56:52.649292",
          "exception": false,
          "start_time": "2022-02-15T23:56:52.615077",
          "status": "completed"
        },
        "tags": [],
        "execution": {
          "iopub.status.busy": "2024-03-02T18:29:13.415884Z",
          "iopub.execute_input": "2024-03-02T18:29:13.416368Z",
          "iopub.status.idle": "2024-03-02T18:29:13.42374Z",
          "shell.execute_reply.started": "2024-03-02T18:29:13.416334Z",
          "shell.execute_reply": "2024-03-02T18:29:13.422419Z"
        },
        "trusted": true,
        "id": "pL7XeCjUdhkN",
        "outputId": "6cd6f643-9951-49bd-bc00-056f93a19aff"
      },
      "execution_count": null,
      "outputs": [
        {
          "name": "stdout",
          "text": "0\n1\n1\n2\n3\n",
          "output_type": "stream"
        }
      ],
      "id": "pL7XeCjUdhkN"
    },
    {
      "cell_type": "markdown",
      "source": [
        "Once you have an answer, run the code cell below to see the solution.  Viewing the solution will give you credit for answering the problem."
      ],
      "metadata": {
        "papermill": {
          "duration": 0.025079,
          "end_time": "2022-02-15T23:56:52.700169",
          "exception": false,
          "start_time": "2022-02-15T23:56:52.67509",
          "status": "completed"
        },
        "tags": [],
        "id": "B53jLmn8dhkN"
      },
      "id": "B53jLmn8dhkN"
    },
    {
      "cell_type": "code",
      "source": [
        "# Check your answer (Run this code cell to receive credit!)\n",
        "q4.check()"
      ],
      "metadata": {
        "papermill": {
          "duration": 0.031532,
          "end_time": "2022-02-15T23:56:52.761705",
          "exception": false,
          "start_time": "2022-02-15T23:56:52.730173",
          "status": "completed"
        },
        "tags": [],
        "execution": {
          "iopub.status.busy": "2024-03-02T18:29:36.054184Z",
          "iopub.execute_input": "2024-03-02T18:29:36.054928Z",
          "iopub.status.idle": "2024-03-02T18:29:36.067228Z",
          "shell.execute_reply.started": "2024-03-02T18:29:36.054879Z",
          "shell.execute_reply": "2024-03-02T18:29:36.065491Z"
        },
        "trusted": true,
        "id": "XMmBZimtdhkN",
        "outputId": "7c09f2bd-5d28-400e-8a78-8c58079dd5f6"
      },
      "execution_count": null,
      "outputs": [
        {
          "output_type": "display_data",
          "data": {
            "text/plain": "<IPython.core.display.Javascript object>",
            "application/javascript": "parent.postMessage({\"jupyterEvent\": \"custom.exercise_interaction\", \"data\": {\"outcomeType\": 1, \"valueTowardsCompletion\": 0.2, \"interactionType\": 1, \"questionType\": 4, \"questionId\": \"4_AddingBooleans\", \"learnToolsVersion\": \"0.3.4\", \"failureMessage\": \"\", \"exceptionClass\": \"\", \"trace\": \"\"}}, \"*\")"
          },
          "metadata": {}
        },
        {
          "output_type": "display_data",
          "data": {
            "text/plain": "Correct: \n\nWhen you add booleans, adding `False` is equivalent to adding 0, and adding `True` is equivalent to adding 1.",
            "text/markdown": "<span style=\"color:#33cc33\">Correct:</span> \n\nWhen you add booleans, adding `False` is equivalent to adding 0, and adding `True` is equivalent to adding 1."
          },
          "metadata": {}
        }
      ],
      "id": "XMmBZimtdhkN"
    },
    {
      "cell_type": "markdown",
      "source": [
        "# 🌶️ Question 5\n",
        "\n",
        "You own an online shop where you sell rings with custom engravings.  You offer both gold plated and solid gold rings.\n",
        "- Gold plated rings have a base cost of \\\\$50, and you charge \\\\$7 per engraved unit.  \n",
        "- Solid gold rings have a base cost of \\\\$100, and you charge \\\\$10 per engraved unit.\n",
        "- Spaces and punctuation are counted as engraved units.\n",
        "\n",
        "Write a function `cost_of_project()` that takes two arguments:\n",
        "- `engraving` - a Python string with the text of the engraving\n",
        "- `solid_gold` - a Boolean that indicates whether the ring is solid gold\n",
        "\n",
        "It should return the cost of the project.  This question should be fairly challenging, and you may need a hint."
      ],
      "metadata": {
        "papermill": {
          "duration": 0.024396,
          "end_time": "2022-02-15T23:56:52.81114",
          "exception": false,
          "start_time": "2022-02-15T23:56:52.786744",
          "status": "completed"
        },
        "tags": [],
        "id": "XkNZPdv8dhkN"
      },
      "id": "XkNZPdv8dhkN"
    },
    {
      "cell_type": "code",
      "source": [
        "def cost_of_project(engraving, solid_gold):\n",
        "    cost = solid_gold * (100 + 10 * len(engraving)) + (not solid_gold) * (50 + 7 * len(engraving))\n",
        "    return cost\n",
        "\n",
        "# Check your answer\n",
        "q5.check()"
      ],
      "metadata": {
        "papermill": {
          "duration": 0.034931,
          "end_time": "2022-02-15T23:56:52.871015",
          "exception": false,
          "start_time": "2022-02-15T23:56:52.836084",
          "status": "completed"
        },
        "tags": [],
        "execution": {
          "iopub.status.busy": "2024-03-02T18:32:35.044117Z",
          "iopub.execute_input": "2024-03-02T18:32:35.044586Z",
          "iopub.status.idle": "2024-03-02T18:32:35.054232Z",
          "shell.execute_reply.started": "2024-03-02T18:32:35.044555Z",
          "shell.execute_reply": "2024-03-02T18:32:35.053242Z"
        },
        "trusted": true,
        "id": "rNxOokridhkO",
        "outputId": "3d86713e-8cc3-458b-eeac-2264526d2201"
      },
      "execution_count": null,
      "outputs": [
        {
          "output_type": "display_data",
          "data": {
            "text/plain": "<IPython.core.display.Javascript object>",
            "application/javascript": "parent.postMessage({\"jupyterEvent\": \"custom.exercise_interaction\", \"data\": {\"outcomeType\": 1, \"valueTowardsCompletion\": 0.2, \"interactionType\": 1, \"questionType\": 2, \"questionId\": \"5_CustomEngravings\", \"learnToolsVersion\": \"0.3.4\", \"failureMessage\": \"\", \"exceptionClass\": \"\", \"trace\": \"\"}}, \"*\")"
          },
          "metadata": {}
        },
        {
          "output_type": "display_data",
          "data": {
            "text/plain": "Correct",
            "text/markdown": "<span style=\"color:#33cc33\">Correct</span>"
          },
          "metadata": {}
        }
      ],
      "id": "rNxOokridhkO"
    },
    {
      "cell_type": "code",
      "source": [
        "# Uncomment to see a hint\n",
        "q5.hint()\n",
        "\n",
        "# Uncomment to view the solution\n",
        "# q5.solution()"
      ],
      "metadata": {
        "papermill": {
          "duration": 0.032387,
          "end_time": "2022-02-15T23:56:52.929176",
          "exception": false,
          "start_time": "2022-02-15T23:56:52.896789",
          "status": "completed"
        },
        "tags": [],
        "execution": {
          "iopub.status.busy": "2024-03-02T18:32:22.94728Z",
          "iopub.execute_input": "2024-03-02T18:32:22.948696Z",
          "iopub.status.idle": "2024-03-02T18:32:22.957892Z",
          "shell.execute_reply.started": "2024-03-02T18:32:22.948642Z",
          "shell.execute_reply": "2024-03-02T18:32:22.956726Z"
        },
        "trusted": true,
        "id": "avargoWrdhkO",
        "outputId": "c09261c3-acdf-4624-99de-ad63232431d1"
      },
      "execution_count": null,
      "outputs": [
        {
          "output_type": "display_data",
          "data": {
            "text/plain": "<IPython.core.display.Javascript object>",
            "application/javascript": "parent.postMessage({\"jupyterEvent\": \"custom.exercise_interaction\", \"data\": {\"interactionType\": 2, \"questionType\": 2, \"questionId\": \"5_CustomEngravings\", \"learnToolsVersion\": \"0.3.4\", \"valueTowardsCompletion\": 0.0, \"failureMessage\": \"\", \"exceptionClass\": \"\", \"trace\": \"\", \"outcomeType\": 4}}, \"*\")"
          },
          "metadata": {}
        },
        {
          "output_type": "display_data",
          "data": {
            "text/plain": "Hint: There are two options - either the project uses solid gold or does not.  With this in mind, you can structure your solution like this: `cost = solid_gold * ____ + (not solid_gold) * ____`.  You need to figure out how to fill in the blanks. Also, remember that:\n- If `solid_gold = True`, then `(not solid_gold) = False`, and if `solid_gold = False`, then `(not solid_gold) = True`.\n- Multiplying an integer by `True` is equivalent to multiplying it by 1, and multiplying an integer by `False` is equivalent to multiplying it by 0.",
            "text/markdown": "<span style=\"color:#3366cc\">Hint:</span> There are two options - either the project uses solid gold or does not.  With this in mind, you can structure your solution like this: `cost = solid_gold * ____ + (not solid_gold) * ____`.  You need to figure out how to fill in the blanks. Also, remember that:\n- If `solid_gold = True`, then `(not solid_gold) = False`, and if `solid_gold = False`, then `(not solid_gold) = True`.\n- Multiplying an integer by `True` is equivalent to multiplying it by 1, and multiplying an integer by `False` is equivalent to multiplying it by 0."
          },
          "metadata": {}
        }
      ],
      "id": "avargoWrdhkO"
    },
    {
      "cell_type": "markdown",
      "source": [
        "Run the next code cell to calculate the cost of engraving `Charlie+Denver` on a solid gold ring."
      ],
      "metadata": {
        "papermill": {
          "duration": 0.025442,
          "end_time": "2022-02-15T23:56:52.981178",
          "exception": false,
          "start_time": "2022-02-15T23:56:52.955736",
          "status": "completed"
        },
        "tags": [],
        "id": "GdPhBzw_dhkO"
      },
      "id": "GdPhBzw_dhkO"
    },
    {
      "cell_type": "code",
      "source": [
        "project_one = cost_of_project(\"Charlie+Denver\", True)\n",
        "print(project_one)"
      ],
      "metadata": {
        "papermill": {
          "duration": 0.033363,
          "end_time": "2022-02-15T23:56:53.041309",
          "exception": false,
          "start_time": "2022-02-15T23:56:53.007946",
          "status": "completed"
        },
        "tags": [],
        "execution": {
          "iopub.status.busy": "2024-03-02T18:32:46.413807Z",
          "iopub.execute_input": "2024-03-02T18:32:46.414278Z",
          "iopub.status.idle": "2024-03-02T18:32:46.421064Z",
          "shell.execute_reply.started": "2024-03-02T18:32:46.414243Z",
          "shell.execute_reply": "2024-03-02T18:32:46.419384Z"
        },
        "trusted": true,
        "id": "_8rS3RRvdhkP",
        "outputId": "c5310f40-0994-489f-b163-61cda15d2d23"
      },
      "execution_count": null,
      "outputs": [
        {
          "name": "stdout",
          "text": "240\n",
          "output_type": "stream"
        }
      ],
      "id": "_8rS3RRvdhkP"
    },
    {
      "cell_type": "markdown",
      "source": [
        "Use the next code cell to calculate the cost of engraving `08/10/2000` on a gold plated ring."
      ],
      "metadata": {
        "papermill": {
          "duration": 0.025504,
          "end_time": "2022-02-15T23:56:53.093394",
          "exception": false,
          "start_time": "2022-02-15T23:56:53.06789",
          "status": "completed"
        },
        "tags": [],
        "id": "AbvVLxyZdhkP"
      },
      "id": "AbvVLxyZdhkP"
    },
    {
      "cell_type": "code",
      "source": [
        "project_two = cost_of_project(\"08/10/2000\", False)\n",
        "print(project_two)"
      ],
      "metadata": {
        "papermill": {
          "duration": 0.03374,
          "end_time": "2022-02-15T23:56:53.154559",
          "exception": false,
          "start_time": "2022-02-15T23:56:53.120819",
          "status": "completed"
        },
        "tags": [],
        "execution": {
          "iopub.status.busy": "2024-03-02T18:33:15.597837Z",
          "iopub.execute_input": "2024-03-02T18:33:15.598262Z",
          "iopub.status.idle": "2024-03-02T18:33:15.605424Z",
          "shell.execute_reply.started": "2024-03-02T18:33:15.598232Z",
          "shell.execute_reply": "2024-03-02T18:33:15.604029Z"
        },
        "trusted": true,
        "id": "zphXVwZUdhkP",
        "outputId": "57685d04-f5e7-4b16-e745-d14baebe4968"
      },
      "execution_count": null,
      "outputs": [
        {
          "name": "stdout",
          "text": "120\n",
          "output_type": "stream"
        }
      ],
      "id": "zphXVwZUdhkP"
    },
    {
      "cell_type": "markdown",
      "source": [
        "# Keep going\n",
        "\n",
        "Continue to the next lesson to **[learn about conditions and conditional statements](https://www.kaggle.com/alexisbcook/conditions-and-conditional-statements)**."
      ],
      "metadata": {
        "papermill": {
          "duration": 0.016828,
          "end_time": "2022-02-15T23:56:53.189102",
          "exception": false,
          "start_time": "2022-02-15T23:56:53.172274",
          "status": "completed"
        },
        "tags": [],
        "id": "8Bs_lweidhkP"
      },
      "id": "8Bs_lweidhkP"
    },
    {
      "cell_type": "markdown",
      "source": [
        "---\n",
        "\n",
        "\n",
        "\n",
        "\n",
        "*Have questions or comments? Visit the [course discussion forum](https://www.kaggle.com/learn/intro-to-programming/discussion) to chat with other learners.*"
      ],
      "metadata": {
        "id": "MOH7X16EdhkP"
      },
      "id": "MOH7X16EdhkP"
    }
  ]
}