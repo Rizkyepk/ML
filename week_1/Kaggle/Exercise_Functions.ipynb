{
  "metadata": {
    "kernelspec": {
      "display_name": "Python 3",
      "language": "python",
      "name": "python3"
    },
    "language_info": {
      "name": "python",
      "version": "3.10.13",
      "mimetype": "text/x-python",
      "codemirror_mode": {
        "name": "ipython",
        "version": 3
      },
      "pygments_lexer": "ipython3",
      "nbconvert_exporter": "python",
      "file_extension": ".py"
    },
    "kaggle": {
      "accelerator": "none",
      "dataSources": [],
      "isInternetEnabled": false,
      "language": "python",
      "sourceType": "notebook",
      "isGpuEnabled": false
    },
    "colab": {
      "name": "Exercise: Functions",
      "provenance": [],
      "include_colab_link": true
    }
  },
  "nbformat_minor": 0,
  "nbformat": 4,
  "cells": [
    {
      "cell_type": "markdown",
      "metadata": {
        "id": "view-in-github",
        "colab_type": "text"
      },
      "source": [
        "<a href=\"https://colab.research.google.com/github/Rizkyepk/Machine_Learning/blob/main/week_1/Kaggle/Exercise_Functions.ipynb\" target=\"_parent\"><img src=\"https://colab.research.google.com/assets/colab-badge.svg\" alt=\"Open In Colab\"/></a>"
      ]
    },
    {
      "cell_type": "markdown",
      "source": [
        "**This notebook is an exercise in the [Intro to Programming](https://www.kaggle.com/learn/intro-to-programming) course.  You can reference the tutorial at [this link](https://www.kaggle.com/alexisbcook/functions).**\n",
        "\n",
        "---\n"
      ],
      "metadata": {
        "id": "2Rl447u0dBLF"
      }
    },
    {
      "cell_type": "markdown",
      "source": [
        "In the tutorial, you learned about functions. In this exercise, you'll write some of your own!\n",
        "\n",
        "# Set up the notebook\n",
        "\n",
        "Run the next code cell without changes to set up the notebook."
      ],
      "metadata": {
        "id": "hfB4tZg5dBLK"
      }
    },
    {
      "cell_type": "code",
      "source": [
        "# Set up the exercise\n",
        "import math\n",
        "from learntools.core import binder\n",
        "binder.bind(globals())\n",
        "from learntools.intro_to_programming.ex2 import *\n",
        "print('Setup complete.')"
      ],
      "metadata": {
        "execution": {
          "iopub.status.busy": "2024-03-02T17:25:46.477597Z",
          "iopub.execute_input": "2024-03-02T17:25:46.47798Z",
          "iopub.status.idle": "2024-03-02T17:25:46.486466Z",
          "shell.execute_reply.started": "2024-03-02T17:25:46.477953Z",
          "shell.execute_reply": "2024-03-02T17:25:46.485324Z"
        },
        "trusted": true,
        "id": "eVJr0IasdBLL",
        "outputId": "84eca790-6baf-4be8-deba-470f9991ec6b"
      },
      "execution_count": null,
      "outputs": [
        {
          "name": "stdout",
          "text": "Setup complete.\n",
          "output_type": "stream"
        }
      ]
    },
    {
      "cell_type": "markdown",
      "source": [
        "# Question 1\n",
        "\n",
        "In the [House Prices - Advanced Regression Techniques competition](https://www.kaggle.com/c/house-prices-advanced-regression-techniques/overview), you need to use information like the number of bedrooms and bathrooms to predict the price of a house.  Inspired by this competition, you'll write your own function to do this.\n",
        "\n",
        "In the next code cell, create a function `get_expected_cost()` that has two arguments:\n",
        "- `beds` - number of bedrooms\n",
        "- `baths` - number of bathrooms\n",
        "\n",
        "It should return the expected cost of a house with that number of bedrooms and bathrooms.  Assume that:\n",
        "- the expected cost for a house with 0 bedrooms and 0 bathrooms is `80000`.  \n",
        "- each bedroom adds `30000` to the expected cost\n",
        "- each bathroom adds `10000` to the expected cost.\n",
        "\n",
        "For instance,\n",
        "- a house with 1 bedroom and 1 bathroom has an expected cost of `120000`, and\n",
        "- a house with 2 bedrooms and 1 bathroom has an expected cost of `150000`."
      ],
      "metadata": {
        "id": "5ure5vaLdBLM"
      }
    },
    {
      "cell_type": "code",
      "source": [
        "# TODO: Complete the function\n",
        "def get_expected_cost(beds, baths):\n",
        "    value = 80000 + 30000 * beds + 10000 * baths\n",
        "    return value\n",
        "\n",
        "# Check your answer\n",
        "q1.check()"
      ],
      "metadata": {
        "execution": {
          "iopub.status.busy": "2024-03-02T17:26:41.364796Z",
          "iopub.execute_input": "2024-03-02T17:26:41.365227Z",
          "iopub.status.idle": "2024-03-02T17:26:41.375728Z",
          "shell.execute_reply.started": "2024-03-02T17:26:41.365195Z",
          "shell.execute_reply": "2024-03-02T17:26:41.374735Z"
        },
        "trusted": true,
        "id": "acxZotTNdBLN",
        "outputId": "f24271a1-17e0-4019-f28a-8b463fe17f1a"
      },
      "execution_count": null,
      "outputs": [
        {
          "output_type": "display_data",
          "data": {
            "text/plain": "<IPython.core.display.Javascript object>",
            "application/javascript": "parent.postMessage({\"jupyterEvent\": \"custom.exercise_interaction\", \"data\": {\"outcomeType\": 1, \"valueTowardsCompletion\": 0.2, \"interactionType\": 1, \"questionType\": 2, \"questionId\": \"1_GetExpectedCost\", \"learnToolsVersion\": \"0.3.4\", \"failureMessage\": \"\", \"exceptionClass\": \"\", \"trace\": \"\"}}, \"*\")"
          },
          "metadata": {}
        },
        {
          "output_type": "display_data",
          "data": {
            "text/plain": "Correct",
            "text/markdown": "<span style=\"color:#33cc33\">Correct</span>"
          },
          "metadata": {}
        }
      ]
    },
    {
      "cell_type": "code",
      "source": [
        "# Uncomment to see a hint\n",
        "q1.hint()\n",
        "\n",
        "# Uncomment to view the solution\n",
        "# q1.solution()"
      ],
      "metadata": {
        "execution": {
          "iopub.status.busy": "2024-03-02T17:26:49.791694Z",
          "iopub.execute_input": "2024-03-02T17:26:49.792129Z",
          "iopub.status.idle": "2024-03-02T17:26:49.801494Z",
          "shell.execute_reply.started": "2024-03-02T17:26:49.792068Z",
          "shell.execute_reply": "2024-03-02T17:26:49.800363Z"
        },
        "trusted": true,
        "id": "MMxnr5EpdBLN",
        "outputId": "00d91af5-2019-4ac3-be62-bf9df07c5591"
      },
      "execution_count": null,
      "outputs": [
        {
          "output_type": "display_data",
          "data": {
            "text/plain": "<IPython.core.display.Javascript object>",
            "application/javascript": "parent.postMessage({\"jupyterEvent\": \"custom.exercise_interaction\", \"data\": {\"interactionType\": 2, \"questionType\": 2, \"questionId\": \"1_GetExpectedCost\", \"learnToolsVersion\": \"0.3.4\", \"valueTowardsCompletion\": 0.0, \"failureMessage\": \"\", \"exceptionClass\": \"\", \"trace\": \"\", \"outcomeType\": 4}}, \"*\")"
          },
          "metadata": {}
        },
        {
          "output_type": "display_data",
          "data": {
            "text/plain": "Hint: The value should be the base cost (`80000`), plus the total cost of the bedrooms (`30000 * beds`), plus the total cost of the bathrooms (`10000 * baths`).",
            "text/markdown": "<span style=\"color:#3366cc\">Hint:</span> The value should be the base cost (`80000`), plus the total cost of the bedrooms (`30000 * beds`), plus the total cost of the bathrooms (`10000 * baths`)."
          },
          "metadata": {}
        }
      ]
    },
    {
      "cell_type": "markdown",
      "source": [
        "# Question 2\n",
        "\n",
        "You are thinking about buying a home and want to get an idea of how much you will spend, based on the number of bedrooms and bathrooms.  You are trying to decide between four different options:\n",
        "- Option 1: house with two bedrooms and three bathrooms\n",
        "- Option 2: house with three bedrooms and two bathrooms\n",
        "- Option 3: house with three bedrooms and three bathrooms\n",
        "- Option 4: house with three bedrooms and four bathrooms\n",
        "\n",
        "Use the `get_expected_cost()` function you defined in question 1 to set `option_1`, `option_2`, `option_3`, and `option_4` to the expected cost of each option."
      ],
      "metadata": {
        "id": "RioBhhaKdBLO"
      }
    },
    {
      "cell_type": "code",
      "source": [
        "# TODO: Use the get_expected_cost function to fill in each value\n",
        "option_one = get_expected_cost(2,3)\n",
        "option_two = get_expected_cost(3,2)\n",
        "option_three = get_expected_cost(3,3)\n",
        "option_four = get_expected_cost(3,4)\n",
        "\n",
        "print(option_one)\n",
        "print(option_two)\n",
        "print(option_three)\n",
        "print(option_four)\n",
        "\n",
        "# Check your answer\n",
        "q2.check()"
      ],
      "metadata": {
        "execution": {
          "iopub.status.busy": "2024-03-02T17:30:14.649446Z",
          "iopub.execute_input": "2024-03-02T17:30:14.649842Z",
          "iopub.status.idle": "2024-03-02T17:30:14.660745Z",
          "shell.execute_reply.started": "2024-03-02T17:30:14.649814Z",
          "shell.execute_reply": "2024-03-02T17:30:14.659972Z"
        },
        "trusted": true,
        "id": "16dXaXM8dBLO",
        "outputId": "49ce9d6f-93ae-4fd7-be53-82a3444467fc"
      },
      "execution_count": null,
      "outputs": [
        {
          "name": "stdout",
          "text": "170000\n190000\n200000\n210000\n",
          "output_type": "stream"
        },
        {
          "output_type": "display_data",
          "data": {
            "text/plain": "<IPython.core.display.Javascript object>",
            "application/javascript": "parent.postMessage({\"jupyterEvent\": \"custom.exercise_interaction\", \"data\": {\"outcomeType\": 1, \"valueTowardsCompletion\": 0.2, \"interactionType\": 1, \"questionType\": 1, \"questionId\": \"2_RunGetExpectedCost\", \"learnToolsVersion\": \"0.3.4\", \"failureMessage\": \"\", \"exceptionClass\": \"\", \"trace\": \"\"}}, \"*\")"
          },
          "metadata": {}
        },
        {
          "output_type": "display_data",
          "data": {
            "text/plain": "Correct",
            "text/markdown": "<span style=\"color:#33cc33\">Correct</span>"
          },
          "metadata": {}
        }
      ]
    },
    {
      "cell_type": "code",
      "source": [
        "# Uncomment to see a hint\n",
        "q2.hint()\n",
        "\n",
        "# Uncomment to view the solution\n",
        "#q2.solution()"
      ],
      "metadata": {
        "trusted": true,
        "id": "JemLugdAdBLO",
        "outputId": "2d5d8ff1-6d4b-4812-c853-279329dd383d"
      },
      "execution_count": null,
      "outputs": [
        {
          "output_type": "display_data",
          "data": {
            "text/plain": "<IPython.core.display.Javascript object>",
            "application/javascript": "parent.postMessage({\"jupyterEvent\": \"custom.exercise_interaction\", \"data\": {\"interactionType\": 2, \"questionType\": 1, \"questionId\": \"2_RunGetExpectedCost\", \"learnToolsVersion\": \"0.3.4\", \"valueTowardsCompletion\": 0.0, \"failureMessage\": \"\", \"exceptionClass\": \"\", \"trace\": \"\", \"outcomeType\": 4}}, \"*\")"
          },
          "metadata": {}
        },
        {
          "output_type": "display_data",
          "data": {
            "text/plain": "Hint: If `option_five` needed to have the expected cost of a house with five bedrooms and three bathrooms, we would write `option_five = get_expected_cost(5, 3)`.",
            "text/markdown": "<span style=\"color:#3366cc\">Hint:</span> If `option_five` needed to have the expected cost of a house with five bedrooms and three bathrooms, we would write `option_five = get_expected_cost(5, 3)`."
          },
          "metadata": {}
        }
      ]
    },
    {
      "cell_type": "markdown",
      "source": [
        "# Question 3\n",
        "\n",
        "You're a home decorator, and you'd like to use Python to streamline some of your work.  Specifically, you're creating a tool that you intend to use to calculate the cost of painting a room.\n",
        "\n",
        "As a first step, define a function `get_cost()` that takes as input:\n",
        "- `sqft_walls` = total square feet of walls to be painted\n",
        "- `sqft_ceiling` = square feet of ceiling to be painted\n",
        "- `sqft_per_gallon` = number of square feet that you can cover with one gallon of paint\n",
        "- `cost_per_gallon` = cost (in dollars) of one gallon of paint\n",
        "\n",
        "It should return the cost (in dollars) of putting one coat of paint on all walls and the ceiling.  Assume you can buy the exact amount of paint that you need, so you can buy partial gallons (e.g., if you need 7.523 gallons, you can buy that exact amount, instead of needing to buy 8 gallons and waste some paint).  Do not round your answer."
      ],
      "metadata": {
        "id": "SrT7aF35dBLP"
      }
    },
    {
      "cell_type": "code",
      "source": [
        "# TODO: Finish defining the function\n",
        "def get_cost(sqft_walls, sqft_ceiling, sqft_per_gallon, cost_per_gallon):\n",
        "    total_sqft = sqft_walls + sqft_ceiling\n",
        "    gallons_needed = total_sqft / sqft_per_gallon\n",
        "    cost = cost_per_gallon * gallons_needed\n",
        "    return cost\n",
        "\n",
        "# Check your answer\n",
        "q3.check()"
      ],
      "metadata": {
        "execution": {
          "iopub.status.busy": "2024-03-02T17:38:17.139005Z",
          "iopub.execute_input": "2024-03-02T17:38:17.139383Z",
          "iopub.status.idle": "2024-03-02T17:38:17.149387Z",
          "shell.execute_reply.started": "2024-03-02T17:38:17.139357Z",
          "shell.execute_reply": "2024-03-02T17:38:17.148168Z"
        },
        "trusted": true,
        "id": "Lh92BioTdBLP",
        "outputId": "fd994b6e-bd34-4f29-9d84-ad1da3a265ea"
      },
      "execution_count": null,
      "outputs": [
        {
          "output_type": "display_data",
          "data": {
            "text/plain": "<IPython.core.display.Javascript object>",
            "application/javascript": "parent.postMessage({\"jupyterEvent\": \"custom.exercise_interaction\", \"data\": {\"outcomeType\": 1, \"valueTowardsCompletion\": 0.2, \"interactionType\": 1, \"questionType\": 2, \"questionId\": \"3_GetCostPaint\", \"learnToolsVersion\": \"0.3.4\", \"failureMessage\": \"\", \"exceptionClass\": \"\", \"trace\": \"\"}}, \"*\")"
          },
          "metadata": {}
        },
        {
          "output_type": "display_data",
          "data": {
            "text/plain": "Correct",
            "text/markdown": "<span style=\"color:#33cc33\">Correct</span>"
          },
          "metadata": {}
        }
      ]
    },
    {
      "cell_type": "code",
      "source": [
        "# Uncomment to see a hint\n",
        "q3.hint()\n",
        "\n",
        "# Uncomment to view the solution\n",
        "# q3.solution()"
      ],
      "metadata": {
        "execution": {
          "iopub.status.busy": "2024-03-02T17:38:11.480247Z",
          "iopub.execute_input": "2024-03-02T17:38:11.48061Z",
          "iopub.status.idle": "2024-03-02T17:38:11.489532Z",
          "shell.execute_reply.started": "2024-03-02T17:38:11.480583Z",
          "shell.execute_reply": "2024-03-02T17:38:11.488435Z"
        },
        "trusted": true,
        "id": "nKbx8iJqdBLQ",
        "outputId": "f6a8cfc3-3eef-4a0d-a075-c205ef691f35"
      },
      "execution_count": null,
      "outputs": [
        {
          "output_type": "display_data",
          "data": {
            "text/plain": "<IPython.core.display.Javascript object>",
            "application/javascript": "parent.postMessage({\"jupyterEvent\": \"custom.exercise_interaction\", \"data\": {\"interactionType\": 2, \"questionType\": 2, \"questionId\": \"3_GetCostPaint\", \"learnToolsVersion\": \"0.3.4\", \"valueTowardsCompletion\": 0.0, \"failureMessage\": \"\", \"exceptionClass\": \"\", \"trace\": \"\", \"outcomeType\": 4}}, \"*\")"
          },
          "metadata": {}
        },
        {
          "output_type": "display_data",
          "data": {
            "text/plain": "Hint: Begin by calculating the total number of square feet that need to be painted. Then, based on that, figure out how many gallons you need.  Then, once you know how many gallons you need, you can calculate the total cost of the project.",
            "text/markdown": "<span style=\"color:#3366cc\">Hint:</span> Begin by calculating the total number of square feet that need to be painted. Then, based on that, figure out how many gallons you need.  Then, once you know how many gallons you need, you can calculate the total cost of the project."
          },
          "metadata": {}
        }
      ]
    },
    {
      "cell_type": "markdown",
      "source": [
        "# Question 4\n",
        "\n",
        "Use the `get_cost()` function you defined in Question 3 to calculate the cost of applying one coat of paint to a room with:\n",
        "- 432 square feet of walls, and\n",
        "- 144 square feet of ceiling.\n",
        "\n",
        "Assume that one gallon of paint covers 400 square feet and costs $15.  As in Question 3, assume you can buy partial gallons of paint.  Do not round your answer."
      ],
      "metadata": {
        "id": "7jxl-vrEdBLQ"
      }
    },
    {
      "cell_type": "code",
      "source": [
        "# TODO: Set the project_cost variable to the cost of the project\n",
        "project_cost = get_cost(432, 144, 400, 15)\n",
        "\n",
        "# Check your answer\n",
        "q4.check()"
      ],
      "metadata": {
        "execution": {
          "iopub.status.busy": "2024-03-02T17:41:06.277996Z",
          "iopub.execute_input": "2024-03-02T17:41:06.278428Z",
          "iopub.status.idle": "2024-03-02T17:41:06.288415Z",
          "shell.execute_reply.started": "2024-03-02T17:41:06.278397Z",
          "shell.execute_reply": "2024-03-02T17:41:06.287344Z"
        },
        "trusted": true,
        "id": "8ycBGQzsdBLR",
        "outputId": "874145b5-8ffb-4460-944b-291e471cd710"
      },
      "execution_count": null,
      "outputs": [
        {
          "output_type": "display_data",
          "data": {
            "text/plain": "<IPython.core.display.Javascript object>",
            "application/javascript": "parent.postMessage({\"jupyterEvent\": \"custom.exercise_interaction\", \"data\": {\"outcomeType\": 1, \"valueTowardsCompletion\": 0.2, \"interactionType\": 1, \"questionType\": 1, \"questionId\": \"4_GetCostPaintExample\", \"learnToolsVersion\": \"0.3.4\", \"failureMessage\": \"\", \"exceptionClass\": \"\", \"trace\": \"\"}}, \"*\")"
          },
          "metadata": {}
        },
        {
          "output_type": "display_data",
          "data": {
            "text/plain": "Correct",
            "text/markdown": "<span style=\"color:#33cc33\">Correct</span>"
          },
          "metadata": {}
        }
      ]
    },
    {
      "cell_type": "code",
      "source": [
        "# Uncomment to see a hint\n",
        "q4.hint()\n",
        "\n",
        "# Uncomment to view the solution\n",
        "#q4.solution()"
      ],
      "metadata": {
        "trusted": true,
        "id": "W5sVlO4CdBLR",
        "outputId": "781a0012-72e5-4724-c9e9-e2ca34f8d04b"
      },
      "execution_count": null,
      "outputs": [
        {
          "output_type": "display_data",
          "data": {
            "text/plain": "<IPython.core.display.Javascript object>",
            "application/javascript": "parent.postMessage({\"jupyterEvent\": \"custom.exercise_interaction\", \"data\": {\"interactionType\": 2, \"questionType\": 1, \"questionId\": \"4_GetCostPaintExample\", \"learnToolsVersion\": \"0.3.4\", \"valueTowardsCompletion\": 0.0, \"failureMessage\": \"\", \"exceptionClass\": \"\", \"trace\": \"\", \"outcomeType\": 4}}, \"*\")"
          },
          "metadata": {}
        },
        {
          "output_type": "display_data",
          "data": {
            "text/plain": "Hint: If we needed to instead calculate the cost of applying one coat of paint to a room with 800 square feet of walls and 160 square feet of ceiling, and one gallon of paint covered 300 square feet and cost $10, we would set `project_cost = get_cost(800, 160, 300, 10)`.",
            "text/markdown": "<span style=\"color:#3366cc\">Hint:</span> If we needed to instead calculate the cost of applying one coat of paint to a room with 800 square feet of walls and 160 square feet of ceiling, and one gallon of paint covered 300 square feet and cost $10, we would set `project_cost = get_cost(800, 160, 300, 10)`."
          },
          "metadata": {}
        }
      ]
    },
    {
      "cell_type": "markdown",
      "source": [
        "# 🌶️ Question 5\n",
        "\n",
        "Now say you can no longer buy fractions of a gallon.  (For instance, if you need 4.3 gallons to do a project, then you have to buy 5 gallons of paint.)\n",
        "\n",
        "With this new scenario, you will create a new function `get_actual_cost` that uses the same inputs and calculates the cost of your project.\n",
        "\n",
        "One function that you'll need to use to do this is `math.ceil()`.  We demonstrate usage of this function in the code cell below.  It takes as a number as input and rounds the number up to the nearest integer.  \n",
        "\n",
        "Run the next code cell to test this function for yourself.  Feel free to change the value of `test_value` and make sure `math.ceil()` returns the number you expect."
      ],
      "metadata": {
        "id": "cZS6qZgudBLR"
      }
    },
    {
      "cell_type": "code",
      "source": [
        "test_value = 2.17\n",
        "\n",
        "rounded_value = math.ceil(test_value)\n",
        "print(rounded_value)"
      ],
      "metadata": {
        "execution": {
          "iopub.status.busy": "2024-03-02T17:41:17.70926Z",
          "iopub.execute_input": "2024-03-02T17:41:17.709971Z",
          "iopub.status.idle": "2024-03-02T17:41:17.715018Z",
          "shell.execute_reply.started": "2024-03-02T17:41:17.709939Z",
          "shell.execute_reply": "2024-03-02T17:41:17.714278Z"
        },
        "trusted": true,
        "id": "7oYDZhUDdBLS",
        "outputId": "c22df206-d843-4d1f-9896-b2dae9debac2"
      },
      "execution_count": null,
      "outputs": [
        {
          "name": "stdout",
          "text": "3\n",
          "output_type": "stream"
        }
      ]
    },
    {
      "cell_type": "markdown",
      "source": [
        "Use the next code cell to define the function `get_actual_cost()`.  You'll need to use the `math.ceil()` function to do this.\n",
        "\n",
        "When answering this question, note that it's completely valid to define a function that makes use of another function.  For instance, we can define a function `round_up_and_divide_by_three` that makes use of the `math.ceil` function:\n",
        "```\n",
        "def round_up_and_divide_by_three(num):\n",
        "    new_value = math.ceil(num)\n",
        "    final_value = new_value / 3\n",
        "    return final_value\n",
        "```"
      ],
      "metadata": {
        "id": "i9lCMM8GdBLT"
      }
    },
    {
      "cell_type": "code",
      "source": [
        "def get_actual_cost(sqft_walls, sqft_ceiling, sqft_per_gallon, cost_per_gallon):\n",
        "    total_sqft = sqft_walls + sqft_ceiling\n",
        "    gallons_needed = total_sqft / sqft_per_gallon\n",
        "    gallons_to_buy = math.ceil(gallons_needed)\n",
        "    cost = cost_per_gallon * gallons_to_buy\n",
        "    return cost\n",
        "\n",
        "# Check your answer\n",
        "q5.check()"
      ],
      "metadata": {
        "execution": {
          "iopub.status.busy": "2024-03-02T17:46:32.913511Z",
          "iopub.execute_input": "2024-03-02T17:46:32.913893Z",
          "iopub.status.idle": "2024-03-02T17:46:32.923802Z",
          "shell.execute_reply.started": "2024-03-02T17:46:32.913866Z",
          "shell.execute_reply": "2024-03-02T17:46:32.92261Z"
        },
        "trusted": true,
        "id": "zu1Ry_pudBLT",
        "outputId": "a46816f1-cbf7-4473-ca24-b5f0d209027e"
      },
      "execution_count": null,
      "outputs": [
        {
          "output_type": "display_data",
          "data": {
            "text/plain": "<IPython.core.display.Javascript object>",
            "application/javascript": "parent.postMessage({\"jupyterEvent\": \"custom.exercise_interaction\", \"data\": {\"outcomeType\": 1, \"valueTowardsCompletion\": 0.2, \"interactionType\": 1, \"questionType\": 2, \"questionId\": \"5_NoMoreFractions\", \"learnToolsVersion\": \"0.3.4\", \"failureMessage\": \"\", \"exceptionClass\": \"\", \"trace\": \"\"}}, \"*\")"
          },
          "metadata": {}
        },
        {
          "output_type": "display_data",
          "data": {
            "text/plain": "Correct",
            "text/markdown": "<span style=\"color:#33cc33\">Correct</span>"
          },
          "metadata": {}
        }
      ]
    },
    {
      "cell_type": "code",
      "source": [
        "# Uncomment to see a hint\n",
        "q5.hint()\n",
        "\n",
        "# Uncomment to view the solution\n",
        "# q5.solution()"
      ],
      "metadata": {
        "execution": {
          "iopub.status.busy": "2024-03-02T17:46:30.835769Z",
          "iopub.execute_input": "2024-03-02T17:46:30.836174Z",
          "iopub.status.idle": "2024-03-02T17:46:30.845607Z",
          "shell.execute_reply.started": "2024-03-02T17:46:30.836144Z",
          "shell.execute_reply": "2024-03-02T17:46:30.84428Z"
        },
        "trusted": true,
        "id": "rV4XmOYWdBLT",
        "outputId": "197e0848-a991-445a-caf2-fcecfbf9c372"
      },
      "execution_count": null,
      "outputs": [
        {
          "output_type": "display_data",
          "data": {
            "text/plain": "<IPython.core.display.Javascript object>",
            "application/javascript": "parent.postMessage({\"jupyterEvent\": \"custom.exercise_interaction\", \"data\": {\"interactionType\": 2, \"questionType\": 2, \"questionId\": \"5_NoMoreFractions\", \"learnToolsVersion\": \"0.3.4\", \"valueTowardsCompletion\": 0.0, \"failureMessage\": \"\", \"exceptionClass\": \"\", \"trace\": \"\", \"outcomeType\": 4}}, \"*\")"
          },
          "metadata": {}
        },
        {
          "output_type": "display_data",
          "data": {
            "text/plain": "Hint: Begin with the `get_cost()` function as a starting point.  The only change you need to make is to add `math.ceil()` to round up the number of gallons that need to be purchased. Can you figure out where to add it to the function?",
            "text/markdown": "<span style=\"color:#3366cc\">Hint:</span> Begin with the `get_cost()` function as a starting point.  The only change you need to make is to add `math.ceil()` to round up the number of gallons that need to be purchased. Can you figure out where to add it to the function?"
          },
          "metadata": {}
        }
      ]
    },
    {
      "cell_type": "markdown",
      "source": [
        "Once your function is verified as correct, run the next code cell to calculate the updated cost of your project."
      ],
      "metadata": {
        "id": "nNgxFM5IdBLT"
      }
    },
    {
      "cell_type": "code",
      "source": [
        "get_actual_cost(432, 144, 400, 15)"
      ],
      "metadata": {
        "execution": {
          "iopub.status.busy": "2024-03-02T17:47:00.459847Z",
          "iopub.execute_input": "2024-03-02T17:47:00.460263Z",
          "iopub.status.idle": "2024-03-02T17:47:00.468139Z",
          "shell.execute_reply.started": "2024-03-02T17:47:00.460231Z",
          "shell.execute_reply": "2024-03-02T17:47:00.466865Z"
        },
        "trusted": true,
        "id": "9-j8RyVDdBLU",
        "outputId": "e2d0a498-1dbd-4e0a-8779-456faa474ba9"
      },
      "execution_count": null,
      "outputs": [
        {
          "execution_count": 34,
          "output_type": "execute_result",
          "data": {
            "text/plain": "30"
          },
          "metadata": {}
        }
      ]
    },
    {
      "cell_type": "markdown",
      "source": [
        "Say you're working with a slightly larger room.  Run the next code cell to calculate the cost of the project."
      ],
      "metadata": {
        "id": "98El2Ye5dBLU"
      }
    },
    {
      "cell_type": "code",
      "source": [
        "get_actual_cost(594, 288, 400, 15)"
      ],
      "metadata": {
        "execution": {
          "iopub.status.busy": "2024-03-02T17:47:13.320011Z",
          "iopub.execute_input": "2024-03-02T17:47:13.320726Z",
          "iopub.status.idle": "2024-03-02T17:47:13.328545Z",
          "shell.execute_reply.started": "2024-03-02T17:47:13.320692Z",
          "shell.execute_reply": "2024-03-02T17:47:13.327426Z"
        },
        "trusted": true,
        "id": "76hRPbWddBLU",
        "outputId": "89cd8530-5f4c-4b73-8893-a204b8cbea1f"
      },
      "execution_count": null,
      "outputs": [
        {
          "execution_count": 35,
          "output_type": "execute_result",
          "data": {
            "text/plain": "45"
          },
          "metadata": {}
        }
      ]
    },
    {
      "cell_type": "markdown",
      "source": [
        "# Keep going\n",
        "\n",
        "Continue to learn about **[data types](https://www.kaggle.com/alexisbcook/data-types)**."
      ],
      "metadata": {
        "id": "Et7FFBI0dBLU"
      }
    },
    {
      "cell_type": "markdown",
      "source": [
        "---\n",
        "\n",
        "\n",
        "\n",
        "\n",
        "*Have questions or comments? Visit the [course discussion forum](https://www.kaggle.com/learn/intro-to-programming/discussion) to chat with other learners.*"
      ],
      "metadata": {
        "id": "zhPDEOQ5dBLU"
      }
    }
  ]
}