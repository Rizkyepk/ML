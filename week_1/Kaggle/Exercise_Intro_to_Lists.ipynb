{
  "metadata": {
    "kernelspec": {
      "display_name": "Python 3",
      "language": "python",
      "name": "python3"
    },
    "language_info": {
      "name": "python",
      "version": "3.10.13",
      "mimetype": "text/x-python",
      "codemirror_mode": {
        "name": "ipython",
        "version": 3
      },
      "pygments_lexer": "ipython3",
      "nbconvert_exporter": "python",
      "file_extension": ".py"
    },
    "kaggle": {
      "accelerator": "none",
      "dataSources": [],
      "isInternetEnabled": false,
      "language": "python",
      "sourceType": "notebook",
      "isGpuEnabled": false
    },
    "colab": {
      "name": "Exercise: Intro to Lists",
      "provenance": [],
      "include_colab_link": true
    }
  },
  "nbformat_minor": 0,
  "nbformat": 4,
  "cells": [
    {
      "cell_type": "markdown",
      "metadata": {
        "id": "view-in-github",
        "colab_type": "text"
      },
      "source": [
        "<a href=\"https://colab.research.google.com/github/Rizkyepk/Machine_Learning/blob/main/week_1/Kaggle/Exercise_Intro_to_Lists.ipynb\" target=\"_parent\"><img src=\"https://colab.research.google.com/assets/colab-badge.svg\" alt=\"Open In Colab\"/></a>"
      ]
    },
    {
      "cell_type": "markdown",
      "source": [
        "**This notebook is an exercise in the [Intro to Programming](https://www.kaggle.com/learn/intro-to-programming) course.  You can reference the tutorial at [this link](https://www.kaggle.com/alexisbcook/intro-to-lists).**\n",
        "\n",
        "---\n"
      ],
      "metadata": {
        "id": "X9yE655-XK_p"
      }
    },
    {
      "cell_type": "markdown",
      "source": [
        "In the tutorial, you learned how to define and modify Python lists.  In this exercise, you will use your new knowledge to solve several problems.\n",
        "\n",
        "# Set up the notebook\n",
        "\n",
        "Run the next code cell without changes to set up the notebook."
      ],
      "metadata": {
        "id": "oVsYHK4CXK_u"
      }
    },
    {
      "cell_type": "code",
      "source": [
        "from learntools.core import binder\n",
        "binder.bind(globals())\n",
        "from learntools.intro_to_programming.ex5 import *\n",
        "print('Setup complete.')"
      ],
      "metadata": {
        "execution": {
          "iopub.status.busy": "2024-03-07T09:44:04.972436Z",
          "iopub.execute_input": "2024-03-07T09:44:04.972998Z",
          "iopub.status.idle": "2024-03-07T09:44:06.320391Z",
          "shell.execute_reply.started": "2024-03-07T09:44:04.972964Z",
          "shell.execute_reply": "2024-03-07T09:44:06.318289Z"
        },
        "trusted": true,
        "id": "QC33wKrHXK_v",
        "outputId": "4951b9f6-7ee6-44dd-cea1-954c651448a9"
      },
      "execution_count": null,
      "outputs": [
        {
          "name": "stdout",
          "text": "Setup complete.\n",
          "output_type": "stream"
        }
      ]
    },
    {
      "cell_type": "markdown",
      "source": [
        "# Question 1\n",
        "\n",
        "You own a restaurant with five food dishes, organized in the Python list `menu` below.  One day, you decide to:\n",
        "- remove bean soup (`'bean soup'`) from the menu, and\n",
        "- add roasted beet salad (`'roasted beet salad'`) to the menu.\n",
        "\n",
        "Implement this change to the list below.  While completing this task,\n",
        "- do not change the line that creates the `menu` list.  \n",
        "- your answer should use `.remove()` and `.append()`.  "
      ],
      "metadata": {
        "id": "8OhgQzjUXK_y"
      }
    },
    {
      "cell_type": "code",
      "source": [
        "# Do not change: Initial menu for your restaurant\n",
        "menu = ['stewed meat with onions', 'bean soup', 'risotto with trout and shrimp',\n",
        "       'fish soup with cream and onion', 'gyro']\n",
        "\n",
        "# TODO: remove 'bean soup', and add 'roasted beet salad' to the end of the menu\n",
        "menu.remove('bean soup')\n",
        "menu.append(\"roasted beet salad\")\n",
        "\n",
        "# Do not change: Check your answer\n",
        "q1.check()"
      ],
      "metadata": {
        "execution": {
          "iopub.status.busy": "2024-03-07T09:50:59.711196Z",
          "iopub.execute_input": "2024-03-07T09:50:59.711557Z",
          "iopub.status.idle": "2024-03-07T09:50:59.722754Z",
          "shell.execute_reply.started": "2024-03-07T09:50:59.71153Z",
          "shell.execute_reply": "2024-03-07T09:50:59.721657Z"
        },
        "trusted": true,
        "id": "NN2WVIcLXK_z",
        "outputId": "bda67f12-d6a1-4e47-af5f-55ec82552566"
      },
      "execution_count": null,
      "outputs": [
        {
          "output_type": "display_data",
          "data": {
            "text/plain": "<IPython.core.display.Javascript object>",
            "application/javascript": "parent.postMessage({\"jupyterEvent\": \"custom.exercise_interaction\", \"data\": {\"outcomeType\": 1, \"valueTowardsCompletion\": 0.2, \"interactionType\": 1, \"questionType\": 2, \"questionId\": \"1_FoodMenu\", \"learnToolsVersion\": \"0.3.4\", \"failureMessage\": \"\", \"exceptionClass\": \"\", \"trace\": \"\"}}, \"*\")"
          },
          "metadata": {}
        },
        {
          "output_type": "display_data",
          "data": {
            "text/plain": "Correct",
            "text/markdown": "<span style=\"color:#33cc33\">Correct</span>"
          },
          "metadata": {}
        }
      ]
    },
    {
      "cell_type": "code",
      "source": [
        "# Uncomment to see a hint\n",
        "#q1.hint()\n",
        "\n",
        "# Uncomment to see the solution\n",
        "#q1.solution()"
      ],
      "metadata": {
        "id": "Kh2VMnHiXK_0"
      },
      "execution_count": null,
      "outputs": []
    },
    {
      "cell_type": "markdown",
      "source": [
        "# Question 2\n",
        "\n",
        "The list `num_customers` contains the number of customers who came into your restaurant every day over the last month (which lasted thirty days).  Fill in values for each of the following:\n",
        "- `avg_first_seven` - average number of customers who visited in the first seven days\n",
        "- `avg_last_seven` - average number of customers who visited in the last seven days\n",
        "- `max_month` - number of customers on the day that got the most customers in the last month\n",
        "- `min_month` - number of customers on the day that got the least customers in the last month\n",
        "\n",
        "Answer this question by writing code.  For instance, if you have to find the minimum value in a list, use `min()` instead of scanning for the smallest value and directly filling in a number."
      ],
      "metadata": {
        "id": "wOl4qm8yXK_0"
      }
    },
    {
      "cell_type": "code",
      "source": [
        "# Do not change: Number of customers each day for the last month\n",
        "num_customers = [137, 147, 135, 128, 170, 174, 165, 146, 126, 159,\n",
        "                 141, 148, 132, 147, 168, 153, 170, 161, 148, 152,\n",
        "                 141, 151, 131, 149, 164, 163, 143, 143, 166, 171]\n",
        "\n",
        "# TODO: Fill in values for the variables below\n",
        "avg_first_seven = sum(num_customers[:7])/7\n",
        "avg_last_seven = sum(num_customers[-7:])/7\n",
        "max_month = max(num_customers)\n",
        "min_month = min(num_customers)\n",
        "\n",
        "# Do not change: Check your answer\n",
        "q2.check()"
      ],
      "metadata": {
        "execution": {
          "iopub.status.busy": "2024-03-07T09:54:02.411946Z",
          "iopub.execute_input": "2024-03-07T09:54:02.412343Z",
          "iopub.status.idle": "2024-03-07T09:54:02.423613Z",
          "shell.execute_reply.started": "2024-03-07T09:54:02.412313Z",
          "shell.execute_reply": "2024-03-07T09:54:02.422385Z"
        },
        "trusted": true,
        "id": "TlkoJHf7XK_0",
        "outputId": "30e8ef34-c2ff-49ff-d3e4-4c9b6e4ceaca"
      },
      "execution_count": null,
      "outputs": [
        {
          "output_type": "display_data",
          "data": {
            "text/plain": "<IPython.core.display.Javascript object>",
            "application/javascript": "parent.postMessage({\"jupyterEvent\": \"custom.exercise_interaction\", \"data\": {\"outcomeType\": 1, \"valueTowardsCompletion\": 0.2, \"interactionType\": 1, \"questionType\": 1, \"questionId\": \"2_NumCustomers\", \"learnToolsVersion\": \"0.3.4\", \"failureMessage\": \"\", \"exceptionClass\": \"\", \"trace\": \"\"}}, \"*\")"
          },
          "metadata": {}
        },
        {
          "output_type": "display_data",
          "data": {
            "text/plain": "Correct",
            "text/markdown": "<span style=\"color:#33cc33\">Correct</span>"
          },
          "metadata": {}
        }
      ]
    },
    {
      "cell_type": "code",
      "source": [
        "# Uncomment to see a hint\n",
        "# q2.hint()\n",
        "\n",
        "# Uncomment to see the solution\n",
        "# q2.solution()"
      ],
      "metadata": {
        "execution": {
          "iopub.status.busy": "2024-03-07T09:53:58.521765Z",
          "iopub.execute_input": "2024-03-07T09:53:58.522124Z",
          "iopub.status.idle": "2024-03-07T09:53:58.526731Z",
          "shell.execute_reply.started": "2024-03-07T09:53:58.522095Z",
          "shell.execute_reply": "2024-03-07T09:53:58.525555Z"
        },
        "trusted": true,
        "id": "Gd8L2ScVXK_1"
      },
      "execution_count": null,
      "outputs": []
    },
    {
      "cell_type": "markdown",
      "source": [
        "# Question 3\n",
        "\n",
        "In the tutorial, we gave an example of a Python string with information that was better as a list."
      ],
      "metadata": {
        "id": "lDIHyyVuXK_2"
      }
    },
    {
      "cell_type": "code",
      "source": [
        "flowers = \"pink primrose,hard-leaved pocket orchid,canterbury bells,sweet pea,english marigold,tiger lily,moon orchid,bird of paradise,monkshood,globe thistle\""
      ],
      "metadata": {
        "execution": {
          "iopub.status.busy": "2024-03-07T09:54:11.284857Z",
          "iopub.execute_input": "2024-03-07T09:54:11.28522Z",
          "iopub.status.idle": "2024-03-07T09:54:11.290287Z",
          "shell.execute_reply.started": "2024-03-07T09:54:11.285186Z",
          "shell.execute_reply": "2024-03-07T09:54:11.289036Z"
        },
        "trusted": true,
        "id": "FeiIzDOxXK_2"
      },
      "execution_count": null,
      "outputs": []
    },
    {
      "cell_type": "markdown",
      "source": [
        "You can actually use Python to quickly turn this string into a list with `.split()`.  In the parentheses, we need to provide the character should be used to mark the end of one list item and the beginning of another, and enclose it in quotation marks.  In this case, that character is a comma."
      ],
      "metadata": {
        "id": "OPIlHikRXK_2"
      }
    },
    {
      "cell_type": "code",
      "source": [
        " print(flowers.split(\",\"))"
      ],
      "metadata": {
        "execution": {
          "iopub.status.busy": "2024-03-07T09:54:16.368867Z",
          "iopub.execute_input": "2024-03-07T09:54:16.369225Z",
          "iopub.status.idle": "2024-03-07T09:54:16.375482Z",
          "shell.execute_reply.started": "2024-03-07T09:54:16.369197Z",
          "shell.execute_reply": "2024-03-07T09:54:16.374278Z"
        },
        "trusted": true,
        "id": "G340LSs7XK_3",
        "outputId": "dbacd2ce-0eba-4135-a2e7-4cea19f2b691"
      },
      "execution_count": null,
      "outputs": [
        {
          "name": "stdout",
          "text": "['pink primrose', 'hard-leaved pocket orchid', 'canterbury bells', 'sweet pea', 'english marigold', 'tiger lily', 'moon orchid', 'bird of paradise', 'monkshood', 'globe thistle']\n",
          "output_type": "stream"
        }
      ]
    },
    {
      "cell_type": "markdown",
      "source": [
        "Now it is your turn to try this out!  Create two Python lists:\n",
        "- `letters` should be a Python list where each entry is an uppercase letter of the English alphabet.  For instance, the first two entries should be `\"A\"` and `\"B\"`, and the final two entries should be `\"Y\"` and `\"Z\"`.  Use the string `alphabet` to create this list.\n",
        "- `address` should be a Python list where each row in `address` is a different item in the list.  Currently, each row in `address` is separated by a comma."
      ],
      "metadata": {
        "id": "dP2Caj89XK_3"
      }
    },
    {
      "cell_type": "code",
      "source": [
        "# DO not change: Define two Python strings\n",
        "alphabet = \"A.B.C.D.E.F.G.H.I.J.K.L.M.N.O.P.Q.R.S.T.U.V.W.X.Y.Z\"\n",
        "address = \"Mr. H. Potter,The cupboard under the Stairs,4 Privet Drive,Little Whinging,Surrey\"\n",
        "\n",
        "# TODO: Convert strings into Python lists\n",
        "letters = alphabet.split('.')\n",
        "formatted_address = address.split(',')\n",
        "\n",
        "# Do not change: Check your answer\n",
        "q3.check()"
      ],
      "metadata": {
        "execution": {
          "iopub.status.busy": "2024-03-07T09:59:06.397933Z",
          "iopub.execute_input": "2024-03-07T09:59:06.398588Z",
          "iopub.status.idle": "2024-03-07T09:59:06.409153Z",
          "shell.execute_reply.started": "2024-03-07T09:59:06.398546Z",
          "shell.execute_reply": "2024-03-07T09:59:06.407769Z"
        },
        "trusted": true,
        "id": "UsaCQ7F7XK_3",
        "outputId": "e7424d78-e5de-4f1a-d761-9cbfbc99b8d8"
      },
      "execution_count": null,
      "outputs": [
        {
          "output_type": "display_data",
          "data": {
            "text/plain": "<IPython.core.display.Javascript object>",
            "application/javascript": "parent.postMessage({\"jupyterEvent\": \"custom.exercise_interaction\", \"data\": {\"outcomeType\": 1, \"valueTowardsCompletion\": 0.2, \"interactionType\": 1, \"questionType\": 1, \"questionId\": \"3_SplitString\", \"learnToolsVersion\": \"0.3.4\", \"failureMessage\": \"\", \"exceptionClass\": \"\", \"trace\": \"\"}}, \"*\")"
          },
          "metadata": {}
        },
        {
          "output_type": "display_data",
          "data": {
            "text/plain": "Correct",
            "text/markdown": "<span style=\"color:#33cc33\">Correct</span>"
          },
          "metadata": {}
        }
      ]
    },
    {
      "cell_type": "code",
      "source": [
        "# Uncomment to see a hint\n",
        "#q3.hint()\n",
        "\n",
        "# Uncomment to see the solution\n",
        "# q3.solution()"
      ],
      "metadata": {
        "execution": {
          "iopub.status.busy": "2024-03-07T09:59:04.561236Z",
          "iopub.execute_input": "2024-03-07T09:59:04.561601Z",
          "iopub.status.idle": "2024-03-07T09:59:04.568523Z",
          "shell.execute_reply.started": "2024-03-07T09:59:04.561571Z",
          "shell.execute_reply": "2024-03-07T09:59:04.565608Z"
        },
        "trusted": true,
        "id": "D1tLWChwXK_4"
      },
      "execution_count": null,
      "outputs": []
    },
    {
      "cell_type": "markdown",
      "source": [
        "# Question 4\n",
        "\n",
        "In the Python course, you'll learn all about **list comprehensions**, which allow you to create a list based on the values in another list.  In this question, you'll get a brief preview of how they work.\n",
        "\n",
        "Say we're working with the list below."
      ],
      "metadata": {
        "id": "4zDmA1CaXK_4"
      }
    },
    {
      "cell_type": "code",
      "source": [
        "test_ratings = [1, 2, 3, 4, 5]"
      ],
      "metadata": {
        "execution": {
          "iopub.status.busy": "2024-03-07T09:59:11.877569Z",
          "iopub.execute_input": "2024-03-07T09:59:11.87795Z",
          "iopub.status.idle": "2024-03-07T09:59:11.883358Z",
          "shell.execute_reply.started": "2024-03-07T09:59:11.877922Z",
          "shell.execute_reply": "2024-03-07T09:59:11.88174Z"
        },
        "trusted": true,
        "id": "U5EH8vslXK_4"
      },
      "execution_count": null,
      "outputs": []
    },
    {
      "cell_type": "markdown",
      "source": [
        "Then we can use this list (`test_ratings`) to create a new list (`test_liked`) where each item has been turned into a boolean, depending on whether or not the item is greater than or equal to four."
      ],
      "metadata": {
        "id": "GTg5HHuOXK_4"
      }
    },
    {
      "cell_type": "code",
      "source": [
        "test_liked = [i>=4 for i in test_ratings]\n",
        "print(test_liked)"
      ],
      "metadata": {
        "execution": {
          "iopub.status.busy": "2024-03-07T09:59:16.064795Z",
          "iopub.execute_input": "2024-03-07T09:59:16.065152Z",
          "iopub.status.idle": "2024-03-07T09:59:16.071013Z",
          "shell.execute_reply.started": "2024-03-07T09:59:16.065125Z",
          "shell.execute_reply": "2024-03-07T09:59:16.069823Z"
        },
        "trusted": true,
        "id": "Tx2y_TxUXK_5",
        "outputId": "caaf3594-0635-4ebd-d9cf-4ca85dc0c4b4"
      },
      "execution_count": null,
      "outputs": [
        {
          "name": "stdout",
          "text": "[False, False, False, True, True]\n",
          "output_type": "stream"
        }
      ]
    },
    {
      "cell_type": "markdown",
      "source": [
        "In this question, you'll use this list comprehension to define a function `percentage_liked()` that takes one argument as input:\n",
        "- `ratings`: list of ratings that people gave to a movie, where each rating is a number between 1-5, inclusive\n",
        "\n",
        "We say someone liked the movie, if they gave a rating of either 4 or 5.  Your function should return the percentage of people who liked the movie.\n",
        "\n",
        "For instance, if we supply a value of `[1, 2, 3, 4, 5, 4, 5, 1]`, then 50% (4/8) of the people liked the movie, and the function should return `0.5`.\n",
        "\n",
        "Part of the function has already been completed for you.  You need only use `list_liked` to calculate `percentage_liked`."
      ],
      "metadata": {
        "id": "dDuul0JSXK_5"
      }
    },
    {
      "cell_type": "code",
      "source": [
        "\n",
        "def percentage_liked(ratings):\n",
        "    list_liked = [i>=4 for i in ratings]\n",
        "    # TODO: Complete the function\n",
        "    percentage_liked = sum(list_liked)/len(list_liked)\n",
        "    return percentage_liked\n",
        "\n",
        "# Do not change: should return 0.5\n",
        "percentage_liked([1, 2, 3, 4, 5, 4, 5, 1])\n",
        "\n",
        "# Do not change: Check your answer\n",
        "q4.check()"
      ],
      "metadata": {
        "execution": {
          "iopub.status.busy": "2024-03-07T10:00:07.384824Z",
          "iopub.execute_input": "2024-03-07T10:00:07.385183Z",
          "iopub.status.idle": "2024-03-07T10:00:07.393469Z",
          "shell.execute_reply.started": "2024-03-07T10:00:07.385157Z",
          "shell.execute_reply": "2024-03-07T10:00:07.392655Z"
        },
        "trusted": true,
        "id": "ADgDJGzPXK_5",
        "outputId": "0593f11a-124c-4e8d-87ef-3a4fe928bfa0"
      },
      "execution_count": null,
      "outputs": [
        {
          "output_type": "display_data",
          "data": {
            "text/plain": "<IPython.core.display.Javascript object>",
            "application/javascript": "parent.postMessage({\"jupyterEvent\": \"custom.exercise_interaction\", \"data\": {\"outcomeType\": 1, \"valueTowardsCompletion\": 0.2, \"interactionType\": 1, \"questionType\": 2, \"questionId\": \"4_PercentageLiked\", \"learnToolsVersion\": \"0.3.4\", \"failureMessage\": \"\", \"exceptionClass\": \"\", \"trace\": \"\"}}, \"*\")"
          },
          "metadata": {}
        },
        {
          "output_type": "display_data",
          "data": {
            "text/plain": "Correct",
            "text/markdown": "<span style=\"color:#33cc33\">Correct</span>"
          },
          "metadata": {}
        }
      ]
    },
    {
      "cell_type": "code",
      "source": [
        "# Uncomment to see a hint\n",
        "#q4.hint()\n",
        "\n",
        "# Uncomment to see the solution\n",
        "# q4.solution()"
      ],
      "metadata": {
        "execution": {
          "iopub.status.busy": "2024-03-07T10:00:03.700957Z",
          "iopub.execute_input": "2024-03-07T10:00:03.701353Z",
          "iopub.status.idle": "2024-03-07T10:00:03.705368Z",
          "shell.execute_reply.started": "2024-03-07T10:00:03.70132Z",
          "shell.execute_reply": "2024-03-07T10:00:03.704594Z"
        },
        "trusted": true,
        "id": "HTYtQtVvXK_5"
      },
      "execution_count": null,
      "outputs": []
    },
    {
      "cell_type": "markdown",
      "source": [
        "# 🌶️ Question 5\n",
        "\n",
        "Say you're doing analytics for a website.  You need to write a function that returns the percentage growth in the total number of users relative to a specified number of years ago.\n",
        "\n",
        "Your function `percentage_growth()` should take two arguments as input:\n",
        "- `num_users` = Python list with the total number of users each year.  So `num_users[0]` is the total number of users in the first year, `num_users[1]` is the total number of users in the second year, and so on.  The final entry in the list gives the total number of users in the most recently completed year.\n",
        "- `yrs_ago` = number of years to go back in time when calculating the growth percentage\n",
        "\n",
        "For instance, say `num_users = [920344, 1043553, 1204334, 1458996, 1503323, 1593432, 1623463, 1843064, 1930992, 2001078]`.\n",
        "- if `yrs_ago = 1`, we want the function to return a value of about `0.036`. This corresponds to a percentage growth of approximately 3.6%, calculated as (2001078 - 1930992)/1930992.\n",
        "- if `years_ago = 7`, we would want to return approximately `0.66`.  This corresponds to a percentage growth of approximately 66%, calculated as (2001078 - 1204334)/1204334.\n",
        "\n",
        "Your coworker sent you a draft of a function, but it doesn't seem to be doing the correct calculation.  Can you figure out what has gone wrong and make the needed changes?"
      ],
      "metadata": {
        "id": "eOADjRbOXK_6"
      }
    },
    {
      "cell_type": "code",
      "source": [
        "# TODO: Edit the function\n",
        "def percentage_growth(num_users, yrs_ago):\n",
        "    growth = (num_users[len(num_users)-1] - num_users[len(num_users)-yrs_ago])/num_users[len(num_users)-2]\n",
        "    return growth\n",
        "\n",
        "# Do not change: Variable for calculating some test examples\n",
        "num_users_test = [920344, 1043553, 1204334, 1458996, 1503323, 1593432, 1623463, 1843064, 1930992, 2001078]\n",
        "\n",
        "# Do not change: Should return .036\n",
        "print(percentage_growth(num_users_test, 1))\n",
        "\n",
        "# Do not change: Should return 0.66\n",
        "print(percentage_growth(num_users_test, 7))\n",
        "\n",
        "# Do not change: Check your answer\n",
        "q5.check()"
      ],
      "metadata": {
        "execution": {
          "iopub.status.busy": "2024-03-07T10:00:30.871105Z",
          "iopub.execute_input": "2024-03-07T10:00:30.871578Z",
          "iopub.status.idle": "2024-03-07T10:00:30.883634Z",
          "shell.execute_reply.started": "2024-03-07T10:00:30.871543Z",
          "shell.execute_reply": "2024-03-07T10:00:30.882295Z"
        },
        "trusted": true,
        "id": "DCZpERUMXK_6",
        "outputId": "fecb98f3-bf4a-4ee3-d553-313d37c9acd3"
      },
      "execution_count": null,
      "outputs": [
        {
          "name": "stdout",
          "text": "0.0\n0.2807272117129434\n",
          "output_type": "stream"
        },
        {
          "output_type": "display_data",
          "data": {
            "text/plain": "<IPython.core.display.Javascript object>",
            "application/javascript": "parent.postMessage({\"jupyterEvent\": \"custom.exercise_interaction\", \"data\": {\"outcomeType\": 2, \"failureMessage\": \"Expected return value of `0.03629533421163837` given `num_users=[920344, 1043553, 1204334, 1458996, 1503323, 1593432, 1623463, 1843064, 1930992, 2001078]`, `yrs_ago=1`, but got `0.0` instead.\", \"interactionType\": 1, \"questionType\": 2, \"questionId\": \"5_WebsiteAnalytics\", \"learnToolsVersion\": \"0.3.4\", \"valueTowardsCompletion\": 0.0, \"exceptionClass\": \"\", \"trace\": \"\"}}, \"*\")"
          },
          "metadata": {}
        },
        {
          "output_type": "display_data",
          "data": {
            "text/plain": "Incorrect: Expected return value of `0.03629533421163837` given `num_users=[920344, 1043553, 1204334, 1458996, 1503323, 1593432, 1623463, 1843064, 1930992, 2001078]`, `yrs_ago=1`, but got `0.0` instead.",
            "text/markdown": "<span style=\"color:#cc3333\">Incorrect:</span> Expected return value of `0.03629533421163837` given `num_users=[920344, 1043553, 1204334, 1458996, 1503323, 1593432, 1623463, 1843064, 1930992, 2001078]`, `yrs_ago=1`, but got `0.0` instead."
          },
          "metadata": {}
        }
      ]
    },
    {
      "cell_type": "code",
      "source": [
        "# Uncomment to see a hint\n",
        "#q5.hint()\n",
        "\n",
        "# Uncomment to see the solution\n",
        "q5.solution()"
      ],
      "metadata": {
        "trusted": true,
        "id": "FfwFmcUcXK_6",
        "outputId": "df0aa460-094a-4407-c25f-9ec5fe10dc1d"
      },
      "execution_count": null,
      "outputs": [
        {
          "output_type": "display_data",
          "data": {
            "text/plain": "<IPython.core.display.Javascript object>",
            "application/javascript": "parent.postMessage({\"jupyterEvent\": \"custom.exercise_interaction\", \"data\": {\"interactionType\": 3, \"questionType\": 2, \"questionId\": \"5_WebsiteAnalytics\", \"learnToolsVersion\": \"0.3.4\", \"valueTowardsCompletion\": 0.0, \"failureMessage\": \"\", \"exceptionClass\": \"\", \"trace\": \"\", \"outcomeType\": 4}}, \"*\")"
          },
          "metadata": {}
        },
        {
          "output_type": "display_data",
          "data": {
            "text/plain": "Solution: \n```python\ndef percentage_growth(num_users, yrs_ago):\n    growth = (num_users[len(num_users)-1] - num_users[len(num_users)-yrs_ago-1])/num_users[len(num_users)-yrs_ago-1]\n    return growth\n\n```",
            "text/markdown": "<span style=\"color:#33cc99\">Solution:</span> \n```python\ndef percentage_growth(num_users, yrs_ago):\n    growth = (num_users[len(num_users)-1] - num_users[len(num_users)-yrs_ago-1])/num_users[len(num_users)-yrs_ago-1]\n    return growth\n\n```"
          },
          "metadata": {}
        }
      ]
    },
    {
      "cell_type": "markdown",
      "source": [
        "# Congratulations!\n",
        "\n",
        "Congratulations for finishing the Intro to Programming course!  You should be proud of your very first steps with learning programming.  As next steps, we recommend taking:\n",
        "- the **[Python course](http://www.kaggle.com/learn/python)**, and\n",
        "- the **[Intro to Machine Learning course](https://www.kaggle.com/learn/intro-to-machine-learning)**."
      ],
      "metadata": {
        "id": "I-7x0VbmXK_7"
      }
    },
    {
      "cell_type": "markdown",
      "source": [
        "---\n",
        "\n",
        "\n",
        "\n",
        "\n",
        "*Have questions or comments? Visit the [course discussion forum](https://www.kaggle.com/learn/intro-to-programming/discussion) to chat with other learners.*"
      ],
      "metadata": {
        "id": "zXcHy6oJXK_7"
      }
    }
  ]
}